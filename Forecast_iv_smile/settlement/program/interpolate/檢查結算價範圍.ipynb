{
 "cells": [
  {
   "cell_type": "code",
   "execution_count": 1,
   "metadata": {},
   "outputs": [
    {
     "name": "stdout",
     "output_type": "stream",
     "text": [
      "172.0\n",
      "-81.0\n",
      "['2020/03/18']\n"
     ]
    }
   ],
   "source": [
    "import numpy as np\n",
    "import pandas as pd\n",
    "\n",
    "bond = 300\n",
    "upper = bond\n",
    "lower = bond\n",
    "s_c = '結算價'\n",
    "top_path = './../../'\n",
    "Data_path = top_path + 'Data/'\n",
    "expiry = 'NearbyMonth'\n",
    "OCRange = 1\n",
    "IV_type = 'callIV.csv'\n",
    "IV_path = '{}/{}/{}/{}'.format(Data_path, expiry, OCRange, IV_type)\n",
    "IV_data = pd.read_csv(IV_path, encoding='Big5', index_col=False)\n",
    "IV_matrix = np.array(IV_data)\n",
    "columns_names = ['交易日期', '履約價', '期貨{}'.format(s_c),'隱含波動率({})'.format(s_c), '到期天數']\n",
    "columns_index = [IV_data.columns.get_loc(col) for col in columns_names]\n",
    "dates = IV_matrix[:, columns_index[0]]\n",
    "dates = np.unique(dates)\n",
    "\n",
    "u = np.zeros(len(dates))\n",
    "\n",
    "l = np.zeros(len(dates))\n",
    "\n",
    "for i in range(len(dates)):\n",
    "    one_day_matrix = IV_matrix[np.equal(dates[i], IV_matrix[:, columns_index[0]])]\n",
    "    l[i] = one_day_matrix[0, columns_index[2]] - one_day_matrix[0, columns_index[1]]\n",
    "    u[i] = one_day_matrix[-1, columns_index[1]] - one_day_matrix[-1, columns_index[2]]\n",
    "\n",
    "print(np.min(u))\n",
    "\n",
    "idx = np.arange(len(dates))\n",
    "idx = idx[np.equal(l, np.min(l))]\n",
    "print(np.min(l))\n",
    "\n",
    "date = dates[idx]\n",
    "print(date)\n",
    "\n",
    "D = IV_data[IV_data['交易日期'] == date[0]]"
   ]
  }
 ],
 "metadata": {
  "kernelspec": {
   "display_name": "Python 3",
   "language": "python",
   "name": "python3"
  },
  "language_info": {
   "codemirror_mode": {
    "name": "ipython",
    "version": 3
   },
   "file_extension": ".py",
   "mimetype": "text/x-python",
   "name": "python",
   "nbconvert_exporter": "python",
   "pygments_lexer": "ipython3",
   "version": "3.10.6"
  }
 },
 "nbformat": 4,
 "nbformat_minor": 2
}
