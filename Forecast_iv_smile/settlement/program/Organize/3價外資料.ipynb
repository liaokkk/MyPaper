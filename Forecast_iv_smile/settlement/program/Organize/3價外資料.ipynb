{
 "cells": [
  {
   "cell_type": "code",
   "execution_count": 3,
   "metadata": {},
   "outputs": [],
   "source": [
    "import numpy as np\n",
    "import pandas as pd\n",
    "\n",
    "\n",
    "top_path = './../../'\n",
    "Data_path = top_path + 'Data/'\n",
    "Expiry_path = Data_path + 'AllExpiry/'\n",
    "file_name = 'IV.csv'\n",
    "ITM_file_name = 'OTMIV.csv'\n",
    "s_c = '結算價'\n",
    "\n",
    "\n",
    "IV_Data = pd.read_csv('{}{}'.format(Expiry_path, file_name), encoding='Big5', index_col=False)\n",
    "IV_matrix = np.array(IV_Data)\n",
    "idx_IV_matrix = np.arange(len(IV_matrix))\n",
    "\n",
    "\n",
    "\n",
    "column_names = ['買賣權', '履約價', '期貨{}'.format(s_c)]\n",
    "column_index = [IV_Data.columns.get_loc(col) for col in column_names]\n",
    "\n",
    "\n",
    "#買權資料在原本資料的哪幾列\n",
    "rows_call = idx_IV_matrix[np.equal(IV_matrix[:, column_index[0]], 'call')]\n",
    "IV_call = IV_matrix[rows_call]\n",
    "#價外買權資料(結算>=履約)在原本資料的哪幾列\n",
    "rows_call_ITM = rows_call[np.greater_equal(IV_call[:, column_index[1]], IV_call[:, column_index[2]])]\n",
    "\n",
    "\n",
    "#賣權資料在原本資料的哪幾列\n",
    "rows_put = idx_IV_matrix[np.equal(IV_matrix[:, column_index[0]], 'put')]\n",
    "IV_put = IV_matrix[rows_put]\n",
    "#價外賣權資料(結算<履約)在原本資料的哪幾列\n",
    "rows_put_ITM = rows_put[np.less(IV_put[:, column_index[1]], IV_put[:, column_index[2]])]\n",
    "\n",
    "\n",
    "\n",
    "rows_ITM = np.hstack((rows_call_ITM, rows_put_ITM))\n",
    "rows_ITM = np.sort(rows_ITM)\n",
    "\n",
    "IV_matrix_ITM = IV_matrix[rows_ITM]\n",
    "IV_Data_ITM = pd.DataFrame(data=IV_matrix_ITM, columns=IV_Data.columns.to_numpy())\n",
    "IV_Data_ITM.to_csv(Expiry_path + ITM_file_name, encoding='Big5', index=False)\n"
   ]
  }
 ],
 "metadata": {
  "kernelspec": {
   "display_name": "Python 3",
   "language": "python",
   "name": "python3"
  },
  "language_info": {
   "codemirror_mode": {
    "name": "ipython",
    "version": 3
   },
   "file_extension": ".py",
   "mimetype": "text/x-python",
   "name": "python",
   "nbconvert_exporter": "python",
   "pygments_lexer": "ipython3",
   "version": "3.10.6"
  }
 },
 "nbformat": 4,
 "nbformat_minor": 2
}
