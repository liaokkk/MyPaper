{
 "cells": [
  {
   "cell_type": "markdown",
   "metadata": {},
   "source": [
    "原本算出的隱含波動率曲線有用以結算價為基礎算出來的，也有以收盤價為基礎算出來的，這邊以用結算價的資料為主，並將資料儲存至'./../../Data/AllExpiry/IV.csv'"
   ]
  },
  {
   "cell_type": "code",
   "execution_count": 3,
   "metadata": {},
   "outputs": [],
   "source": [
    "import numpy as np\n",
    "import pandas as pd\n",
    "import os\n",
    "\n",
    "all_top_path = './../../../'\n",
    "OrganizedAll__path = all_top_path + 'OrganizeAll/'\n",
    "IV_path = OrganizedAll__path + 'Data/Organized/IV/'\n",
    "top_path = './../../'\n",
    "Data_path = top_path + 'Data/'\n",
    "\n",
    "AllExpiry = 'AllExpiry' \n",
    "AllExpiry_path = Data_path + AllExpiry\n",
    "if AllExpiry not in os.listdir(Data_path):\n",
    "    os.mkdir(AllExpiry_path)\n",
    "AllExpiry_path = AllExpiry_path + '/'\n",
    "\n",
    "\n",
    "IV_Data = pd.read_csv(IV_path + 'IV.csv', encoding='Big5', index_col=False)\n",
    "columns_all = IV_Data.columns.to_numpy()\n",
    "columns_settlement = columns_all[np.not_equal(columns_all, '隱含波動率(收盤價)')]\n",
    "\n",
    "IV_settlement_Data = IV_Data[columns_settlement]\n",
    "IV_settlement_matrix = np.array(IV_settlement_Data)\n",
    "\n",
    "\n",
    "rows_all = np.arange(len(IV_settlement_matrix))\n",
    "iv_all = IV_settlement_matrix[:, IV_settlement_Data.columns.get_loc('隱含波動率(結算價)')]\n",
    "\n",
    "correct_match = np.logical_not(np.isnan(iv_all.astype(float)))\n",
    "IV_correct = IV_settlement_Data.iloc[correct_match]\n",
    "\n",
    "IV_correct.to_csv(AllExpiry_path + 'IV.csv', encoding='Big5', index=False)"
   ]
  }
 ],
 "metadata": {
  "kernelspec": {
   "display_name": "Python 3",
   "language": "python",
   "name": "python3"
  },
  "language_info": {
   "codemirror_mode": {
    "name": "ipython",
    "version": 3
   },
   "file_extension": ".py",
   "mimetype": "text/x-python",
   "name": "python",
   "nbconvert_exporter": "python",
   "pygments_lexer": "ipython3",
   "version": "3.10.6"
  }
 },
 "nbformat": 4,
 "nbformat_minor": 2
}
