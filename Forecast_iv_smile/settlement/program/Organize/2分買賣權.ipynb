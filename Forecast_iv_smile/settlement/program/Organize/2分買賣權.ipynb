{
 "cells": [
  {
   "cell_type": "code",
   "execution_count": 21,
   "metadata": {},
   "outputs": [],
   "source": [
    "import numpy as np\n",
    "import pandas as pd\n",
    "\n",
    "top_path = './../../'\n",
    "Data_path = top_path + 'Data/'\n",
    "Expiry_path = Data_path + 'AllExpiry/'\n",
    "file_name = 'IV.csv'\n",
    "call_file_name = 'callIV.csv'\n",
    "put_file_name = 'putIV.csv'\n",
    "\n",
    "IV_Data = pd.read_csv('{}{}'.format(Expiry_path, file_name), encoding='Big5', index_col=False)\n",
    "IV_matrix = np.array(IV_Data)\n",
    "\n",
    "IV_call = IV_Data[IV_Data['買賣權'] == 'call']\n",
    "IV_put = IV_Data[IV_Data['買賣權'] == 'put']\n",
    "\n",
    "IV_call.to_csv('{}{}'.format(Expiry_path, call_file_name), encoding='Big5', index=False)\n",
    "IV_put.to_csv('{}{}'.format(Expiry_path, put_file_name), encoding='Big5', index=False)\n"
   ]
  }
 ],
 "metadata": {
  "kernelspec": {
   "display_name": "Python 3",
   "language": "python",
   "name": "python3"
  },
  "language_info": {
   "codemirror_mode": {
    "name": "ipython",
    "version": 3
   },
   "file_extension": ".py",
   "mimetype": "text/x-python",
   "name": "python",
   "nbconvert_exporter": "python",
   "pygments_lexer": "ipython3",
   "version": "3.10.6"
  }
 },
 "nbformat": 4,
 "nbformat_minor": 2
}
