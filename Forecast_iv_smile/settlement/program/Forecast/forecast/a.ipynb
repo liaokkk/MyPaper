{
 "cells": [
  {
   "cell_type": "code",
   "execution_count": 8,
   "metadata": {},
   "outputs": [
    {
     "name": "stdout",
     "output_type": "stream",
     "text": [
      "[1 2 2 1]\n",
      "[[0. 1.]\n",
      " [1. 1.]]\n",
      "[[0.  1. ]\n",
      " [0.5 0.5]]\n",
      "[[0.  1.  1.  0. ]\n",
      " [0.5 0.5 0.5 0.5]\n",
      " [0.5 0.5 0.5 0.5]\n",
      " [0.  1.  1.  0. ]]\n"
     ]
    }
   ],
   "source": [
    "import numpy as np\n",
    "import tsia\n",
    "import pandas as pd\n",
    "def _markov_transition_field(X_binned, X_mtm, n_timestamps):\n",
    "    X_mtf = np.zeros((n_timestamps, n_timestamps))\n",
    "    \n",
    "    # We loop through each timestamp twice to build a N x N matrix:\n",
    "    for i in range(n_timestamps):\n",
    "        for j in range(n_timestamps):\n",
    "            # We align each probability along the temporal order: MTF(i,j) \n",
    "            # denotes the transition probability of the bin 'i' to the bin \n",
    "            # 'j':\n",
    "            X_mtf[i, j] = X_mtm[X_binned[i], X_binned[j]]\n",
    "            \n",
    "    return X_mtf\n",
    "\n",
    "X = np.array([1, 7, 10, 5])\n",
    "\n",
    "X_ = pd.DataFrame(X)\n",
    "X_binned, bin_edges = tsia.markov.discretize(X_, 2)\n",
    "print(X_binned+1)\n",
    "X_mtm = tsia.markov.markov_transition_matrix(X_binned)\n",
    "print(X_mtm)\n",
    "X_mtm = tsia.markov.markov_transition_probabilities(X_mtm)\n",
    "print(X_mtm)\n",
    "X_mtf = _markov_transition_field(X_binned, X_mtm, len(X))\n",
    "print(X_mtf)"
   ]
  }
 ],
 "metadata": {
  "kernelspec": {
   "display_name": ".venv",
   "language": "python",
   "name": "python3"
  },
  "language_info": {
   "codemirror_mode": {
    "name": "ipython",
    "version": 3
   },
   "file_extension": ".py",
   "mimetype": "text/x-python",
   "name": "python",
   "nbconvert_exporter": "python",
   "pygments_lexer": "ipython3",
   "version": "3.10.6"
  }
 },
 "nbformat": 4,
 "nbformat_minor": 2
}
