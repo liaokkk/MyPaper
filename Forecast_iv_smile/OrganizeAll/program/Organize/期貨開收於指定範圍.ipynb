{
 "cells": [
  {
   "cell_type": "code",
   "execution_count": 3,
   "metadata": {},
   "outputs": [],
   "source": [
    "import numpy as np\n",
    "import pandas as pd\n",
    "\n",
    "top_path = './../../'\n",
    "expirys = ['NearbyMonth', 'two']\n",
    "expiry = 'NearbyMonth'\n",
    "\n",
    "IVdir = 'putIV'\n",
    "\n",
    "file = './../../Data/Organized/{}/{}.csv'.format(IVdir, expiry)\n",
    "P = [0.5, 0.6, 0.7, 0.8, 0.9, 1]\n",
    "\n",
    "\n",
    "for p in P:\n",
    "    IV_data = pd.read_csv(file, encoding='Big5', index_col=False)\n",
    "\n",
    "    IV_matrix = np.array(IV_data)\n",
    "    columns_names_OHLC = ['期貨開盤價', '期貨最高價', '期貨最低價', '期貨收盤價']\n",
    "    column_index_OHLC = [IV_data.columns.get_loc(col) for col in columns_names_OHLC]\n",
    "\n",
    "    Range = IV_matrix[:,column_index_OHLC[1]] - IV_matrix[:,column_index_OHLC[2]] \n",
    "    r = (1-p)*0.5*Range\n",
    "    match_cond = (IV_matrix[:, column_index_OHLC[3]] >= IV_matrix[:,column_index_OHLC[2]]+r) & \\\n",
    "        (IV_matrix[:, column_index_OHLC[3]] <= IV_matrix[:,column_index_OHLC[1]]-r) &\\\n",
    "        (IV_matrix[:, column_index_OHLC[0]] >= IV_matrix[:,column_index_OHLC[2]]+r) & \\\n",
    "        (IV_matrix[:, column_index_OHLC[0]] <= IV_matrix[:,column_index_OHLC[1]]-r)\n",
    "    IV_data_new= IV_data[match_cond]\n",
    "    IV_data_new.to_csv('./../../Data/Organized/{}/{}{}.csv'.format(IVdir, p, expiry), \\\n",
    "                       encoding='Big5', index=False)"
   ]
  }
 ],
 "metadata": {
  "kernelspec": {
   "display_name": "Python 3",
   "language": "python",
   "name": "python3"
  },
  "language_info": {
   "codemirror_mode": {
    "name": "ipython",
    "version": 3
   },
   "file_extension": ".py",
   "mimetype": "text/x-python",
   "name": "python",
   "nbconvert_exporter": "python",
   "pygments_lexer": "ipython3",
   "version": "3.10.6"
  }
 },
 "nbformat": 4,
 "nbformat_minor": 2
}
