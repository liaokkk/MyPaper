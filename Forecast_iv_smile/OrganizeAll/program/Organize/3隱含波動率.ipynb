{
 "cells": [
  {
   "cell_type": "markdown",
   "metadata": {},
   "source": [
    "創建資料夾"
   ]
  },
  {
   "cell_type": "code",
   "execution_count": 1,
   "metadata": {},
   "outputs": [],
   "source": [
    "import os\n",
    "top_path = './../../'\n",
    "Organized_path = top_path + 'Data/Organized/'\n",
    "IV_path = Organized_path + 'IV'\n",
    "if 'IV' not in os.listdir(Organized_path):\n",
    "    os.mkdir(IV_path)\n",
    "IV_path = IV_path + '/'\n",
    "NoIV_path = Organized_path + 'NoIV/'"
   ]
  },
  {
   "cell_type": "markdown",
   "metadata": {},
   "source": [
    "匯出近月隱含波動率資料"
   ]
  },
  {
   "cell_type": "code",
   "execution_count": 3,
   "metadata": {},
   "outputs": [
    {
     "name": "stderr",
     "output_type": "stream",
     "text": [
      "c:\\Users\\bgpa4\\OneDrive\\文件\\學習\\論文\\微笑曲線之預測\\Organized_all\\program\\Organize\\function\\function_black.py:35: RuntimeWarning: divide by zero encountered in scalar divide\n",
      "  v = v - d/vega # f(x) / f'(x)\n",
      "c:\\Users\\bgpa4\\OneDrive\\文件\\學習\\論文\\微笑曲線之預測\\Organized_all\\program\\Organize\\function\\function_black.py:9: RuntimeWarning: invalid value encountered in scalar divide\n",
      "  D1 = lambda F0, K, v, T  : (np.log(F0/K)+T*((v**2)/2)) / (v*(T**0.5))\n",
      "c:\\Users\\bgpa4\\OneDrive\\文件\\學習\\論文\\微笑曲線之預測\\Organized_all\\program\\Organize\\function\\function_black.py:10: RuntimeWarning: invalid value encountered in scalar divide\n",
      "  D2 = lambda F0, K, v, T  : (np.log(F0/K)-T*((v**2)/2)) / (v*(T**0.5))\n",
      "c:\\Users\\bgpa4\\OneDrive\\文件\\學習\\論文\\微笑曲線之預測\\Organized_all\\program\\Organize\\function\\function_black.py:9: RuntimeWarning: overflow encountered in scalar power\n",
      "  D1 = lambda F0, K, v, T  : (np.log(F0/K)+T*((v**2)/2)) / (v*(T**0.5))\n",
      "c:\\Users\\bgpa4\\OneDrive\\文件\\學習\\論文\\微笑曲線之預測\\Organized_all\\program\\Organize\\function\\function_black.py:10: RuntimeWarning: overflow encountered in scalar power\n",
      "  D2 = lambda F0, K, v, T  : (np.log(F0/K)-T*((v**2)/2)) / (v*(T**0.5))\n",
      "c:\\Users\\bgpa4\\OneDrive\\文件\\學習\\論文\\微笑曲線之預測\\Organized_all\\program\\Organize\\function\\function_black.py:35: RuntimeWarning: overflow encountered in scalar divide\n",
      "  v = v - d/vega # f(x) / f'(x)\n",
      "c:\\Users\\bgpa4\\OneDrive\\文件\\學習\\論文\\微笑曲線之預測\\Organized_all\\program\\Organize\\function\\function_black.py:100: RuntimeWarning: invalid value encountered in less_equal\n",
      "  match_cond = error <= 1e-6\n",
      "c:\\Users\\bgpa4\\OneDrive\\文件\\學習\\論文\\微笑曲線之預測\\Organized_all\\program\\Organize\\function\\function_black.py:35: RuntimeWarning: divide by zero encountered in scalar divide\n",
      "  v = v - d/vega # f(x) / f'(x)\n",
      "c:\\Users\\bgpa4\\OneDrive\\文件\\學習\\論文\\微笑曲線之預測\\Organized_all\\program\\Organize\\function\\function_black.py:9: RuntimeWarning: invalid value encountered in scalar divide\n",
      "  D1 = lambda F0, K, v, T  : (np.log(F0/K)+T*((v**2)/2)) / (v*(T**0.5))\n",
      "c:\\Users\\bgpa4\\OneDrive\\文件\\學習\\論文\\微笑曲線之預測\\Organized_all\\program\\Organize\\function\\function_black.py:10: RuntimeWarning: invalid value encountered in scalar divide\n",
      "  D2 = lambda F0, K, v, T  : (np.log(F0/K)-T*((v**2)/2)) / (v*(T**0.5))\n",
      "c:\\Users\\bgpa4\\OneDrive\\文件\\學習\\論文\\微笑曲線之預測\\Organized_all\\program\\Organize\\function\\function_black.py:9: RuntimeWarning: overflow encountered in scalar power\n",
      "  D1 = lambda F0, K, v, T  : (np.log(F0/K)+T*((v**2)/2)) / (v*(T**0.5))\n",
      "c:\\Users\\bgpa4\\OneDrive\\文件\\學習\\論文\\微笑曲線之預測\\Organized_all\\program\\Organize\\function\\function_black.py:10: RuntimeWarning: overflow encountered in scalar power\n",
      "  D2 = lambda F0, K, v, T  : (np.log(F0/K)-T*((v**2)/2)) / (v*(T**0.5))\n",
      "c:\\Users\\bgpa4\\OneDrive\\文件\\學習\\論文\\微笑曲線之預測\\Organized_all\\program\\Organize\\function\\function_black.py:35: RuntimeWarning: overflow encountered in scalar divide\n",
      "  v = v - d/vega # f(x) / f'(x)\n",
      "c:\\Users\\bgpa4\\OneDrive\\文件\\學習\\論文\\微笑曲線之預測\\Organized_all\\program\\Organize\\function\\function_black.py:100: RuntimeWarning: invalid value encountered in less_equal\n",
      "  match_cond = error <= 1e-6\n"
     ]
    }
   ],
   "source": [
    "import pandas as pd\n",
    "import numpy as np\n",
    "from function.function_black import IV_table\n",
    "\n",
    "\n",
    "#最低成交量\n",
    "TX_min_volume = 30\n",
    "TXO_min_volume = 30\n",
    "\n",
    "#最少到期時間\n",
    "min_T_days = 1\n",
    "\n",
    "df = pd.read_csv(NoIV_path + 'TXO_Eclassify.csv', encoding='Big5', index_col=False)\n",
    "df = df[df['成交量'] >= TXO_min_volume]\n",
    "df = df[df['期貨成交量'] >= TX_min_volume]\n",
    "df = df[df['到期天數'] >= min_T_days]\n",
    "#以結算價為基礎算出隱含波動率\n",
    "column_names_settlement = ['期貨結算價', '履約價', '買賣權', '結算價', '無風險利率', '到期天數']\n",
    "column_index_settlement = [df.columns.get_loc(col) for col in column_names_settlement]\n",
    "IV_data, wrong_rows_settlement, Error_rows_settlement = IV_table(data=df, \n",
    "                                                    variable_columns_index=column_index_settlement,\n",
    "                                                    V0 = [0.5, 3.2],\n",
    "                                                    IV_column='隱含波動率(結算價)')\n",
    "\n",
    "#以收盤價為基礎算出隱含波動率\n",
    "column_names_closing  = ['期貨收盤價', '履約價', '買賣權', '收盤價', '無風險利率', '到期天數']\n",
    "column_index_closing = [IV_data.columns.get_loc(col) for col in column_names_closing]\n",
    "IV_data, wrong_rows_closing , Error_rows_closing  = IV_table(data=IV_data, \n",
    "                                                    variable_columns_index=column_index_closing,\n",
    "                                                    V0 = [0.5, 3.2],\n",
    "                                                    IV_column='隱含波動率(收盤價)')\n",
    "\n",
    "\n",
    "IV_data.to_csv(IV_path + 'IV.csv', encoding='Big5', index=False)\n",
    "\n"
   ]
  }
 ],
 "metadata": {
  "kernelspec": {
   "display_name": "Python 3",
   "language": "python",
   "name": "python3"
  },
  "language_info": {
   "codemirror_mode": {
    "name": "ipython",
    "version": 3
   },
   "file_extension": ".py",
   "mimetype": "text/x-python",
   "name": "python",
   "nbconvert_exporter": "python",
   "pygments_lexer": "ipython3",
   "version": "3.10.6"
  }
 },
 "nbformat": 4,
 "nbformat_minor": 2
}
