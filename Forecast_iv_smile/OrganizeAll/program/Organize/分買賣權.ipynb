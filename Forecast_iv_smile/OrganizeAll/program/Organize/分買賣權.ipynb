{
 "cells": [
  {
   "cell_type": "code",
   "execution_count": 3,
   "metadata": {},
   "outputs": [],
   "source": [
    "import numpy as np\n",
    "import pandas as pd\n",
    "\n",
    "expiry = 'NearbyMonth'\n",
    "IV_Data = pd.read_csv('./../../Data/Organized/IV/{}Complete.csv'.format(expiry), \n",
    "                      encoding='Big5', index_col=False)\n",
    "IV_matrix = np.array(IV_Data)\n",
    "\n",
    "IV_call = IV_Data[IV_Data['買賣權'] == 'call']\n",
    "IV_put = IV_Data[IV_Data['買賣權'] == 'put']\n",
    "\n",
    "IV_call.to_csv('./../../Data/Organized/callIV/{}.csv'.format(expiry), \n",
    "                      encoding='Big5', index=False)\n",
    "\n",
    "import numpy as np\n",
    "import pandas as pd\n",
    "\n",
    "expiry = 'NearbyMonth'\n",
    "IV_Data = pd.read_csv('./../../Data/Organized/IV/{}Complete.csv'.format(expiry), \n",
    "                      encoding='Big5', index_col=False)\n",
    "IV_matrix = np.array(IV_Data)\n",
    "\n",
    "IV_call = IV_Data[IV_Data['買賣權'] == 'call']\n",
    "IV_put = IV_Data[IV_Data['買賣權'] == 'put']\n",
    "\n",
    "IV_put.to_csv('./../../Data/Organized/putIV/{}.csv'.format(expiry), \n",
    "                      encoding='Big5', index=False)"
   ]
  }
 ],
 "metadata": {
  "kernelspec": {
   "display_name": "Python 3",
   "language": "python",
   "name": "python3"
  },
  "language_info": {
   "codemirror_mode": {
    "name": "ipython",
    "version": 3
   },
   "file_extension": ".py",
   "mimetype": "text/x-python",
   "name": "python",
   "nbconvert_exporter": "python",
   "pygments_lexer": "ipython3",
   "version": "3.10.6"
  }
 },
 "nbformat": 4,
 "nbformat_minor": 2
}
